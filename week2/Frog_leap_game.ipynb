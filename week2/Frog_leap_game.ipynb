{
  "cells": [
    {
      "cell_type": "markdown",
      "metadata": {
        "id": "fxZte1ZuP3yr"
      },
      "source": [
        "# Problem statement\n",
        "\n",
        "Create famous 'Frog leap' puzzle game. Try completing the game before starting to get an idea about its working.\n",
        "[Demonstration](https://www.neok12.com/games/leap-froggies/leap-froggies.htm).\n",
        "\n",
        "\n",
        "### Rules ###\n",
        "1. The left set of frogs can only move right, the right set of frogs can only move left.\n",
        "2. Frogs can move forward one space, or move two spaces by jumping over another frog from opposite side.\n",
        "3. The puzzle is solved when the two sets of frogs have switched positions.\n",
        "\n",
        "\n",
        "## Steps to solve the problem:\n",
        "### Step1:-\n",
        "- Display green and brown frogs on the left and right sides initially.\n",
        "\n",
        "Initial Display :-  \n",
        "```\n",
        "[ 0 ,  1 ,  2 ,  3 ,  4 ,  5 ,  6 ]\n",
        "['G', 'G', 'G', '-', 'B', 'B', 'B']\n",
        "```\n",
        "<br>\n",
        "Here 'G' represents Green frogs on the left side and 'B' represents brown frogs on the right side. The '-' defines the position of empty leaf.\n",
        "(You can change display according to your imagination or convinience)\n",
        "\n",
        "### Step2:-\n",
        "Accept positions of the frog that you want to move.<br>\n",
        "Example: If we enter position 2 then the game will look like this:-\n",
        "```\n",
        "[ 0 ,  1 ,  2 ,  3 ,  4 ,  5 ,  6 ]\n",
        "['G', 'G', '-', 'G', 'B', 'B', 'B']\n",
        "```\n",
        "\n",
        "### Step3:- ###\n",
        "Define Invalid moves and add conditional 'if' statements accordingly\n",
        "#### Rules\n",
        "1. Entered position should be between 0 to 6. Or a character 'q' to quit the game.\n",
        "2. Entered position cannot be the position of empty leaf.\n",
        "3. If the selected frog position cannot perform the contraints given in rule 2 then the move is invalid.\n",
        "\n",
        "### Step4:-\n",
        "Make the appropriate move by changing the game display."
      ]
    },
    {
      "cell_type": "markdown",
      "metadata": {
        "id": "-viYJbAFQXcJ"
      },
      "source": [
        "## Step 1\n",
        "First create a list `positions` which contains the characters 'G','B' and '-' in the same sequence as given in the initial display state."
      ]
    },
    {
      "cell_type": "code",
      "execution_count": null,
      "metadata": {
        "colab": {
          "base_uri": "https://localhost:8080/"
        },
        "id": "fSvLBrjwP0sr",
        "outputId": "bc3067b9-e114-46a6-8e97-92b919e2afed"
      },
      "outputs": [
        {
          "name": "stdout",
          "output_type": "stream",
          "text": [
            "['G', 'G', 'G', '-', 'B', 'B', 'B']\n"
          ]
        }
      ],
      "source": [
        "positions = ['G', 'G', 'G', '-', 'B', 'B', 'B']\n",
        "print(positions)"
      ]
    },
    {
      "cell_type": "markdown",
      "metadata": {
        "id": "unr1AJLSQj_4"
      },
      "source": [
        "Now print this string ```[ 0 ,  1 ,  2 ,  3 ,  4 ,  5 ,  6 ]``` and after that print the list `positions`"
      ]
    },
    {
      "cell_type": "markdown",
      "metadata": {
        "id": "DuEVsgtjQqXV"
      },
      "source": [
        "Take position as input"
      ]
    },
    {
      "cell_type": "code",
      "execution_count": null,
      "metadata": {
        "colab": {
          "base_uri": "https://localhost:8080/"
        },
        "id": "qqKLcfEmQgiZ",
        "outputId": "61c8ccc1-c520-4df1-9c06-f171d21c875e"
      },
      "outputs": [
        {
          "name": "stdout",
          "output_type": "stream",
          "text": [
            "#### Always enter the values less than 7 ####\n",
            "[ 0 ,  1 ,  2 ,  3 ,  4 ,  5 ,  6 ]\n",
            "['G', 'G', 'G', '-', 'B', 'B', 'B']\n"
          ]
        }
      ],
      "source": [
        "print(\"#### Always enter the values less than 7 ####\")\n",
        "print(\"[ 0 ,  1 ,  2 ,  3 ,  4 ,  5 ,  6 ]\")\n",
        "print(positions)"
      ]
    },
    {
      "cell_type": "code",
      "execution_count": null,
      "metadata": {
        "colab": {
          "base_uri": "https://localhost:8080/"
        },
        "id": "nPz65EKXQnDR",
        "outputId": "751ab8ef-71ae-4253-bec7-0c701d519e96"
      },
      "outputs": [
        {
          "name": "stdout",
          "output_type": "stream",
          "text": [
            "Press q to quit else \n",
            "Enter position of piece:2\n"
          ]
        }
      ],
      "source": [
        "pos = input(\"Press q to quit else \\nEnter position of piece:\")"
      ]
    },
    {
      "cell_type": "markdown",
      "metadata": {
        "id": "ejy_x_eTRJmT"
      },
      "source": [
        "Now the taken input is in string format. So first check if the input is `'q'` character. If input is `'q'` then the person is quiting the game so print `'You Lose'`."
      ]
    },
    {
      "cell_type": "code",
      "execution_count": null,
      "metadata": {
        "id": "1OrsC7P9QxO6"
      },
      "outputs": [],
      "source": [
        "if pos == 'q':\n",
        "  print(\"You Lose\")"
      ]
    },
    {
      "cell_type": "markdown",
      "metadata": {
        "id": "yZJeDTGlRSMe"
      },
      "source": [
        "Next if input character is not `'q'` then it has to be some integer. so convert input to integer format."
      ]
    },
    {
      "cell_type": "code",
      "execution_count": null,
      "metadata": {
        "id": "PWZj_Js6RP2G"
      },
      "outputs": [],
      "source": [
        "pos = int(pos)"
      ]
    },
    {
      "cell_type": "markdown",
      "metadata": {
        "id": "SyCzN-cYRXZa"
      },
      "source": [
        "## Step 2\n",
        "Now we have to check validity of the selected positions or move.<br>\n",
        "If the entered number isn't between 0 and 6, then print 'Invalid move'."
      ]
    },
    {
      "cell_type": "code",
      "execution_count": null,
      "metadata": {
        "id": "8_edLqe2RU8S"
      },
      "outputs": [],
      "source": [
        "if pos < 0 or 6 < pos:\n",
        "  print(\"Invalid Move\")"
      ]
    },
    {
      "cell_type": "markdown",
      "metadata": {
        "id": "Va03g0l5Rlkx"
      },
      "source": [
        "A frog should be present on the selected position to make a move. If leaf is selected then it doesn't make sense. Therefore, if entered postition is same as the postition of empty leaf then the move is invalid and print `Invalid Move`"
      ]
    },
    {
      "cell_type": "code",
      "execution_count": null,
      "metadata": {
        "id": "WGWH0_cEtOgn"
      },
      "outputs": [],
      "source": [
        "if Positions[pos] == '-':\n",
        "    print(\"Invalid move\")"
      ]
    },
    {
      "cell_type": "markdown",
      "metadata": {
        "id": "V9UFD623R3Oa"
      },
      "source": [
        "```   \n",
        "    Check if the selected frog is 'G':\n",
        "  \n",
        "        (Inside if when it's 'G'. As 'G' is selected frog can move to right only.)\n",
        "        \n",
        "        ❗condition 1\n",
        "\n",
        "        If **selected_position + 1** is less than or equal to 6 and **curent_position + 1** contains '-'\n",
        "        then it's a valid move and store that postion in `pos2`.\n",
        "        \n",
        "        ❗condition2\n",
        "\n",
        "        Else if **selected_position + 2** is less than or equal to 6 and if **current_position + 2**\n",
        "        contains '-' and if **selected_position + 1** contains 'B' then it's a valid move  and store that postion in `pos2`.\n",
        "        \n",
        "        ❗condition3:\n",
        "\n",
        "        Else remainig all are invalid, so print `Invalid Move`\n",
        "      \n",
        "```"
      ]
    },
    {
      "cell_type": "code",
      "execution_count": null,
      "metadata": {
        "id": "1SZE-v6YvwLl"
      },
      "outputs": [],
      "source": [
        "if Positions[pos] == 'G':\n",
        "    if (pos + 1) <= 6 and Positions[pos + 1] == '-':\n",
        "        pass\n",
        "\n",
        "    elif (pos + 2) <= 6 and Positions[pos + 2] == '-' and Positions[pos + 1] == 'B':\n",
        "        pass\n",
        "    else:\n",
        "        print(\"Invalid move\")"
      ]
    },
    {
      "cell_type": "markdown",
      "metadata": {
        "id": "-lmFXiRo5NJc"
      },
      "source": [
        "Check if the selected frog is 'B':"
      ]
    },
    {
      "cell_type": "markdown",
      "metadata": {
        "id": "DyQX5nUsTZPF"
      },
      "source": [
        "```\n",
        "    Check if the selected frog is 'B':\n",
        "    \n",
        "        (Inside if when it's 'B'. As 'B' is selected frog can move to left only.)\n",
        "        \n",
        "        ❗condition1:\n",
        "\n",
        "        If **selected_position - 1** is more than or equal to 0 and **curent_position - 1** contains '-' then\n",
        "        it's a valid move and and store that postion in `pos2`.\n",
        "        \n",
        "        ❗condition2:\n",
        "\n",
        "        Else if **selected_position - 2** is more than or equal to 0 and if **current_position - 2** contains '-'\n",
        "        and if **selected_position - 1** contains 'G' then it's a valid move and and store that postion in `pos2`.\n",
        "\n",
        "        ❗condition3:\n",
        "        \n",
        "        Else remainig all are invalid,, so print `Invalid Move`.\n",
        "        \n",
        "```"
      ]
    },
    {
      "cell_type": "code",
      "execution_count": null,
      "metadata": {
        "id": "cQ2G3ZO_TWU5"
      },
      "outputs": [],
      "source": [
        "if Positions[pos] == 'B':\n",
        "    if (pos - 1) >= 0 and Positions[pos - 1] == '-':\n",
        "        pass\n",
        "    elif (pos - 2) >= 0 and Positions[pos - 2] == '-' and Positions[pos - 1] == 'G':\n",
        "        pass\n",
        "    else:\n",
        "        print(\"Invalid move\")"
      ]
    },
    {
      "cell_type": "markdown",
      "metadata": {
        "id": "Vads2oztUd4g"
      },
      "source": [
        "**Step 3**\n",
        "\n",
        "Now we have to make appropriate move."
      ]
    },
    {
      "cell_type": "markdown",
      "metadata": {
        "id": "j-E88XGHDX4i"
      },
      "source": [
        "Check if the selected frog is 'G':\n",
        "\n",
        "    (Inside if when it's 'G')\n",
        "           condition1:\n",
        "           If selected position +1 is empty leaf select it as positions2 by assigning it to some variable.\n",
        "\n",
        "           condition2:\n",
        "           If selected position +2 is empty leaf select it as positions2 by assigning it to some variable."
      ]
    },
    {
      "cell_type": "code",
      "execution_count": null,
      "metadata": {
        "id": "yxOxqlCFDxFk"
      },
      "outputs": [],
      "source": [
        "pos2 = 0\n",
        "if Positions[pos] == 'G':\n",
        "    if Positions[pos + 1] == '-':\n",
        "        pos2 = (pos+1)\n",
        "    elif Positions[pos + 2] == '-':\n",
        "        pos2 = (pos+2)"
      ]
    },
    {
      "cell_type": "markdown",
      "metadata": {
        "id": "20g6XXTZEc-t"
      },
      "source": [
        " Check if the selected frog is 'B':\n",
        " (Inside if when it's 'B')\n",
        "        condition1:\n",
        "           If selected position -1 is empty leaf select it as positions2 by assigning it to some variable.\n",
        "\n",
        "           condition2:\n",
        "           If selected position -2 is empty leaf select it as positions2 by assigning it to some variable."
      ]
    },
    {
      "cell_type": "markdown",
      "metadata": {
        "id": "aZddaRfEE_Yi"
      },
      "source": [
        "(You can assign these values while writing invalid moves but the code will look complecated so we are assigning position in different 'if' statement.)"
      ]
    },
    {
      "cell_type": "code",
      "execution_count": null,
      "metadata": {
        "id": "6quEJCIZFIC3"
      },
      "outputs": [],
      "source": [
        "if Positions[pos] == 'B':\n",
        "    if Positions[pos - 1] == '-':\n",
        "        pos2 = (pos-1)\n",
        "    elif Positions[pos - 2] == '-':\n",
        "        pos2 = (pos-2)"
      ]
    },
    {
      "cell_type": "markdown",
      "metadata": {
        "id": "HU3AD1QEFNEM"
      },
      "source": [
        "Swap the element at selected positions and calculated position2 in the list.\n",
        "So basically we are moving the frog to next valid position by swapping elelments of array."
      ]
    },
    {
      "cell_type": "code",
      "execution_count": null,
      "metadata": {
        "id": "OuXnolyIF6Jy"
      },
      "outputs": [],
      "source": [
        "Positions[pos], Positions[pos2] = Positions[pos2], Positions[pos]"
      ]
    },
    {
      "cell_type": "markdown",
      "metadata": {
        "id": "9NBG1FfjFair"
      },
      "source": [
        "Now print the display of the game again to see the\n",
        "change.\n",
        "\n",
        "If we enter position 2 then the output will look like this:-\n",
        "\n",
        "[ 0 ,  1 ,  2 ,  3 ,  4 ,  5 ,  6 ]\n",
        "\n",
        "['G', 'G', '-', 'G', 'B', 'B', 'B']"
      ]
    },
    {
      "cell_type": "code",
      "execution_count": null,
      "metadata": {
        "colab": {
          "base_uri": "https://localhost:8080/"
        },
        "id": "0S3oNzG3UifK",
        "outputId": "ec0f3e48-a45e-4b1c-999a-e4f3a3d92ba1"
      },
      "outputs": [
        {
          "name": "stdout",
          "output_type": "stream",
          "text": [
            "[ 0 ,  1 ,  2 ,  3 ,  4 ,  5 ,  6 ]\n",
            "['G', 'G', 'G', 'B', '-', 'B', 'B']\n"
          ]
        }
      ],
      "source": [
        "print(\"[ 0 ,  1 ,  2 ,  3 ,  4 ,  5 ,  6 ]\")\n",
        "print(Positions)"
      ]
    },
    {
      "cell_type": "markdown",
      "metadata": {
        "id": "EILVGu48UsH-"
      },
      "source": [
        "Check for winning condition by comparing the elements of list. If player has won the game print `'You Win'`"
      ]
    },
    {
      "cell_type": "code",
      "execution_count": null,
      "metadata": {
        "id": "GYkZdiA6Uote"
      },
      "outputs": [],
      "source": [
        "if Positions == ['B','B','B','-','G','G','G']:\n",
        "    print(\"Congratulations.! YOU WIN\")"
      ]
    },
    {
      "cell_type": "markdown",
      "metadata": {
        "id": "a2a0HHjiUyQ8"
      },
      "source": [
        "Now the game should keep running until the player quits, so place all conditional statements inside an infinite loop.<br>\n",
        "\n",
        "1. We have to `'break'` the loop if the player presses `'q'` and quits.\n",
        "\n",
        "2. If the move made by player is `'Invalid Move'` then we have to `'continue'` without executing remaining part of the selected iteration.\n",
        "\n",
        "3. If player wins the game we have to `break` the loop.\n",
        "\n",
        "\n",
        "```\n",
        "Infinite loop:\n",
        "    (inside loop)\n",
        "    1.Take input\n",
        "    2.Check all valid and invalid conditions of `pos`.\n",
        "    3.Make the appropriate move by calculating `pos2`.\n",
        "    4.Display game\n",
        "    4.Check winning condition\n",
        "```"
      ]
    },
    {
      "cell_type": "code",
      "execution_count": null,
      "metadata": {
        "colab": {
          "base_uri": "https://localhost:8080/"
        },
        "id": "OtqePTQqG84k",
        "outputId": "fea887ff-eb40-4a87-ab67-99123444aaf0"
      },
      "outputs": [
        {
          "name": "stdout",
          "output_type": "stream",
          "text": [
            "###### Always enter an integer less that 7 ######\n",
            "[ 0 ,  1 ,  2 ,  3 ,  4 ,  5 ,  6 ]\n",
            "['G', 'G', 'G', '-', 'B', 'B', 'B']\n",
            "Press q to quit else \n",
            "Enter position of piece:3\n",
            "Invalid move\n",
            "Press q to quit else \n",
            "Enter position of piece:1\n",
            "Invalid move\n"
          ]
        }
      ],
      "source": [
        "Positions = list(['G','G','G','-','B','B','B'])\n",
        "print(\"###### Always enter an integer less that 7 ######\")\n",
        "print(\"[ 0 ,  1 ,  2 ,  3 ,  4 ,  5 ,  6 ]\")\n",
        "print(Positions)\n",
        "\n",
        "while True:\n",
        "    pos = input(\"Press q to quit else \\nEnter position of piece:\")\n",
        "    if pos == 'q':\n",
        "        print(\"YOU LOSE!!\")\n",
        "        break\n",
        "    pos = int(pos)\n",
        "\n",
        "    if pos<0 or 6<pos:\n",
        "        print(\"Invalid move\")\n",
        "        continue\n",
        "    if Positions[pos] == '-':\n",
        "        print(\"Invalid move\")\n",
        "        continue\n",
        "\n",
        "    if Positions[pos] == 'G':\n",
        "        if (pos + 1) <= 6 and Positions[pos + 1] == '-':\n",
        "            pass\n",
        "        elif (pos + 2) <= 6 and Positions[pos + 2] == '-' and Positions[pos + 1] == 'B':\n",
        "            pass\n",
        "        else:\n",
        "            print(\"Invalid move\")\n",
        "            break\n",
        "    if Positions[pos] == 'B':\n",
        "        if (pos - 1) >= 0 and Positions[pos - 1] == '-':\n",
        "            pass\n",
        "        elif (pos - 2) >= 0 and Positions[pos - 2] == '-' and Positions[pos - 1] == 'G':\n",
        "            pass\n",
        "        else:\n",
        "            print(\"Invalid move\")\n",
        "\n",
        "    pos2 = 0\n",
        "    if Positions[pos] == 'G':\n",
        "        if Positions[pos + 1] == '-':\n",
        "            pos2 = (pos+1)\n",
        "        elif Positions[pos + 2] == '-':\n",
        "            pos2 = (pos+2)\n",
        "    if Positions[pos] == 'B':\n",
        "        if Positions[pos - 1] == '-':\n",
        "            pos2 = (pos-1)\n",
        "        elif Positions[pos - 2] == '-':\n",
        "            pos2 = (pos-2)\n",
        "    Positions[pos], Positions[pos2] = Positions[pos2], Positions[pos]\n",
        "\n",
        "    print(\"[ 0 ,  1 ,  2 ,  3 ,  4 ,  5 ,  6 ]\")\n",
        "    print(Positions)\n",
        "\n",
        "    if Positions == ['B','B','B','-','G','G','G']:\n",
        "        print(\"Congratulations YOU WIN\")\n",
        "        break"
      ]
    },
    {
      "cell_type": "markdown",
      "metadata": {
        "id": "Uv7iKOS7Hz86"
      },
      "source": [
        "To avoid printing the output too many times, clear the screen after every iteration.\n",
        "\n",
        "\n",
        "\n",
        "1.Copy the following at the top of your code:\n",
        "from IPython.display import clear_output\n",
        "\n",
        "\n",
        "\n",
        "2.We have to clear screen before displayinh new state in the game Add following function right before displaying output:\n",
        "clear_output()\n",
        "\n",
        "\n",
        "\n",
        "Algorithm with clear_output()"
      ]
    },
    {
      "cell_type": "markdown",
      "metadata": {
        "id": "-yJrSzerWd97"
      },
      "source": [
        "```\n",
        "Infinite loop:\n",
        "    (inside loop)\n",
        "    1.taking inputs\n",
        "    2.Chek all conditions invalid and quite\n",
        "    3.Make the appropriate move by calculating position2.\n",
        "    clear_output()\n",
        "    4.Display game\n",
        "    4.Check winning condition\n",
        "```"
      ]
    },
    {
      "cell_type": "code",
      "execution_count": null,
      "metadata": {
        "colab": {
          "base_uri": "https://localhost:8080/"
        },
        "id": "FjTuOJPzIVKU",
        "outputId": "e98c52bc-18c5-413b-9de5-174350bb59d0"
      },
      "outputs": [
        {
          "name": "stdout",
          "output_type": "stream",
          "text": [
            "###### Always enter an integer less that 7 ######\n",
            "[ 0 ,  1 ,  2 ,  3 ,  4 ,  5 ,  6 ]\n",
            "['G', 'G', 'G', '-', 'B', 'B', 'B']\n",
            "Press q to quit else \n",
            "Enter position of piece:3\n",
            "Invalid move\n",
            "Press q to quit else \n",
            "Enter position of piece:1\n",
            "Invalid move\n"
          ]
        }
      ],
      "source": [
        "from IPython.display import clear_output\n",
        "Positions = list(['G','G','G','-','B','B','B'])\n",
        "print(\"###### Always enter an integer less that 7 ######\")\n",
        "print(\"[ 0 ,  1 ,  2 ,  3 ,  4 ,  5 ,  6 ]\")\n",
        "print(Positions)\n",
        "\n",
        "while True:\n",
        "    pos = input(\"Press q to quit else \\nEnter position of piece:\")\n",
        "    if pos == 'q':\n",
        "        print(\"YOU LOSE!!\")\n",
        "        break\n",
        "    pos = int(pos)\n",
        "\n",
        "    if pos<0 or 6<pos:\n",
        "        print(\"Invalid move\")\n",
        "        continue\n",
        "    if Positions[pos] == '-':\n",
        "        print(\"Invalid move\")\n",
        "        continue\n",
        "\n",
        "    if Positions[pos] == 'G':\n",
        "        if (pos + 1) <= 6 and Positions[pos + 1] == '-':\n",
        "            pass\n",
        "        elif (pos + 2) <= 6 and Positions[pos + 2] == '-' and Positions[pos + 1] == 'B':\n",
        "            pass\n",
        "        else:\n",
        "            print(\"Invalid move\")\n",
        "            break\n",
        "    if Positions[pos] == 'B':\n",
        "        if (pos - 1) >= 0 and Positions[pos - 1] == '-':\n",
        "            pass\n",
        "        elif (pos - 2) >= 0 and Positions[pos - 2] == '-' and Positions[pos - 1] == 'G':\n",
        "            pass\n",
        "        else:\n",
        "            print(\"Invalid move\")\n",
        "\n",
        "    pos2 = 0\n",
        "    if Positions[pos] == 'G':\n",
        "        if Positions[pos + 1] == '-':\n",
        "            pos2 = (pos+1)\n",
        "        elif Positions[pos + 2] == '-':\n",
        "            pos2 = (pos+2)\n",
        "    if Positions[pos] == 'B':\n",
        "        if Positions[pos - 1] == '-':\n",
        "            pos2 = (pos-1)\n",
        "        elif Positions[pos - 2] == '-':\n",
        "            pos2 = (pos-2)\n",
        "    Positions[pos], Positions[pos2] = Positions[pos2], Positions[pos]\n",
        "\n",
        "    clear_output()\n",
        "    print(\"[ 0 ,  1 ,  2 ,  3 ,  4 ,  5 ,  6 ]\")\n",
        "    print(Positions)\n",
        "\n",
        "    if Positions == ['B','B','B','-','G','G','G']:\n",
        "        print(\"Congratulations YOU WIN\")\n",
        "        break"
      ]
    },
    {
      "cell_type": "markdown",
      "metadata": {
        "id": "oCp4tUNKI0Z8"
      },
      "source": [
        "The game is now functionally complete.\n",
        "\n",
        "\n",
        "\n",
        "Keeping everything inside the main loop is bad practice. Sometimes, it also introduces redundancy in the code. So let's create functions.\n",
        "Create 2 functions is_invalid() and make_a_move() pass selected position to both functions. Define these functions right after variable declaration.\n",
        "\n",
        "is_invalid()\n",
        "     1.Pass the selected position to this function.\n",
        "     2.Copy all conditions for validating a move in this function.\n",
        "      3.Remove all print statements from the conditions in the function.\n",
        "      4.In place of all pass statements we will return False\n",
        "      5.In place of all continue statements we will return True\n",
        "\n",
        "\n"
      ]
    },
    {
      "cell_type": "code",
      "execution_count": null,
      "metadata": {
        "id": "qifspwfgKDin"
      },
      "outputs": [],
      "source": [
        "def is_Invalid(pos):\n",
        "    if pos<0 or 6<pos:\n",
        "        return True\n",
        "\n",
        "    if Positions[pos] == '-':\n",
        "        return True\n",
        "\n",
        "    if Positions[pos] == 'G':\n",
        "        if (pos + 1) <= 6 and Positions[pos + 1] == '-':\n",
        "            return False\n",
        "        elif (pos + 2) <= 6 and Positions[pos + 2] == '-' and Positions[pos + 1] == 'B':\n",
        "            return False\n",
        "        else:\n",
        "            return True\n",
        "    if Positions[pos] == 'B':\n",
        "        if (pos - 1) >= 0 and Positions[pos - 1] == '-':\n",
        "            return False\n",
        "        elif (pos - 2) >= 0 and Positions[pos - 2] == '-' and Positions[pos - 1] == 'G':\n",
        "            return False\n",
        "        else:\n",
        "            return True"
      ]
    },
    {
      "cell_type": "markdown",
      "metadata": {
        "id": "KVmkNX4KKMgx"
      },
      "source": [
        "make_a_move()`\n",
        "    \n",
        "    1. Pass the selected position to this function.\n",
        "    2. Copy the code snippet that calculates position2 and also swaps the selected position with position2."
      ]
    },
    {
      "cell_type": "code",
      "execution_count": null,
      "metadata": {
        "id": "Eygu5TYJKSTy"
      },
      "outputs": [],
      "source": [
        "def make_a_move(pos):\n",
        "    pos2 = 0\n",
        "    if Positions[pos] == 'G':\n",
        "        if Positions[pos + 1] == '-':\n",
        "            pos2 = (pos+1)\n",
        "        elif Positions[pos + 2] == '-':\n",
        "            pos2 = (pos+2)\n",
        "    elif Positions[pos] == 'B':\n",
        "        if Positions[pos - 1] == '-':\n",
        "            pos2 = (pos-1)\n",
        "        elif Positions[pos - 2] == '-':\n",
        "            pos2 = (pos-2)\n",
        "\n",
        "    Positions[pos], Positions[pos2] = Positions[pos2], Positions[pos]"
      ]
    },
    {
      "cell_type": "markdown",
      "metadata": {
        "id": "u_EEyV-kKjt-"
      },
      "source": [
        "Inside the while loop we have removed validing conditions and also make a move calculation. Insted of that write the following condition.\n",
        "\n",
        "If value returned by i_invalid() if 'True'\n",
        "    then print 'invalid move'\n",
        "else\n",
        "    call make_a_move() function\n",
        "Write the whole code by making given changes."
      ]
    },
    {
      "cell_type": "code",
      "execution_count": null,
      "metadata": {
        "id": "Fi_GhDXeKoDR"
      },
      "outputs": [],
      "source": [
        "from IPython.display import clear_output\n",
        "Positions = list(['G','G','G','-','B','B','B'])\n",
        "print(\"###### Always enter an integer less that 7 ######\")\n",
        "print(\"[ 0 ,  1 ,  2 ,  3 ,  4 ,  5 ,  6 ]\")\n",
        "print(Positions)\n",
        "\n",
        "def is_Invalid(pos):\n",
        "    if pos<0 or 6<pos:\n",
        "        return True\n",
        "    if Positions[pos] == '-':\n",
        "        return True\n",
        "\n",
        "    if Positions[pos] == 'G':\n",
        "        if (pos + 1) <= 6 and Positions[pos + 1] == '-':\n",
        "            return False\n",
        "        elif (pos + 2) <= 6 and Positions[pos + 2] == '-' and Positions[pos + 1] == 'B':\n",
        "            return False\n",
        "        else:\n",
        "            return True\n",
        "\n",
        "    if Positions[pos] == 'B':\n",
        "        if (pos - 1) >= 0 and Positions[pos - 1] == '-':\n",
        "            return False\n",
        "        elif (pos - 2) >= 0 and Positions[pos - 2] == '-' and Positions[pos - 1] == 'G':\n",
        "            return False\n",
        "        else:\n",
        "            return True\n",
        "\n",
        "def make_a_move(pos):\n",
        "    pos2 = 0\n",
        "    if Positions[pos] == 'G':\n",
        "        if Positions[pos + 1] == '-':\n",
        "            pos2 = (pos+1)\n",
        "        elif Positions[pos + 2] == '-':\n",
        "            pos2 = (pos+2)\n",
        "    elif Positions[pos] == 'B':\n",
        "        if Positions[pos - 1] == '-':\n",
        "            pos2 = (pos-1)\n",
        "        elif Positions[pos - 2] == '-':\n",
        "            pos2 = (pos-2)\n",
        "\n",
        "    Positions[pos], Positions[pos2] = Positions[pos2], Positions[pos]\n",
        "\n",
        "while(True):\n",
        "    pos = input(\"Press q to quit else \\nEnter position of piece:\")\n",
        "    if pos == 'q':\n",
        "        print(\"YOU LOSE!!\")\n",
        "        break\n",
        "    pos = int(pos)\n",
        "    if is_Invalid(pos):\n",
        "        print(\"Invalid move\")\n",
        "        continue\n",
        "    else:\n",
        "        make_a_move(pos)\n",
        "\n",
        "    clear_output()\n",
        "    print(\"[ 0 ,  1 ,  2 ,  3 ,  4 ,  5 ,  6 ]\")\n",
        "    print(Positions)\n",
        "    if Positions == ['B','B','B','-','G','G','G']:\n",
        "        print(\"Congratulations YOU WIN\")\n",
        "        break"
      ]
    },
    {
      "cell_type": "markdown",
      "metadata": {
        "id": "tGPu2bQJK-5Z"
      },
      "source": [
        "### Now the game is complete.\n",
        "If you want to make it look more stylish then replace with emoji.<br>\n",
        "Replace:<br>\n",
        "'G' = '🐸' = '\\U0001F438'<br>\n",
        "'B' = '🐬' = '\\U0001F42C'<br>\n",
        "'-' = '🍁' = '\\U0001F341'"
      ]
    },
    {
      "cell_type": "code",
      "execution_count": null,
      "metadata": {
        "colab": {
          "base_uri": "https://localhost:8080/"
        },
        "id": "DLFZMqRjLFX2",
        "outputId": "1bafa00c-d596-4298-8e18-07945fb7d8ab"
      },
      "outputs": [
        {
          "output_type": "stream",
          "name": "stdout",
          "text": [
            "[  0 ,   1 ,   2 ,   3 ,   4 ,   5 ,   6 ]\n",
            "['🐬', '🐬', '🐬', '🍁', '🐸', '🐸', '🐸']\n",
            "Congratulations YOU WIN\n"
          ]
        }
      ],
      "source": [
        "from IPython.display import clear_output\n",
        "Positions = list(['\\U0001F438','\\U0001F438','\\U0001F438','\\U0001F341','\\U0001F42C','\\U0001F42C','\\U0001F42C'])\n",
        "print(\"###### Always enter an integer less that 7 ######\")\n",
        "print(\"[  0 ,   1 ,   2 ,   3 ,   4 ,   5 ,   6 ]\")\n",
        "print(Positions)\n",
        "\n",
        "def is_Invalid(pos):\n",
        "    if pos<0 or 6<pos:\n",
        "        return True\n",
        "    if Positions[pos] == '\\U0001F341':\n",
        "        return True\n",
        "\n",
        "    if Positions[pos] == '\\U0001F438':\n",
        "        if (pos + 1) <= 6 and Positions[pos + 1] == '\\U0001F341':\n",
        "            return False\n",
        "        elif (pos + 2) <= 6 and Positions[pos + 2] == '\\U0001F341' and Positions[pos + 1] == '\\U0001F42C':\n",
        "            return False\n",
        "        else:\n",
        "            return True\n",
        "\n",
        "    if Positions[pos] == '\\U0001F42C':\n",
        "        if (pos - 1) >= 0 and Positions[pos - 1] == '\\U0001F341':\n",
        "            return False\n",
        "        elif (pos - 2) >= 0 and Positions[pos - 2] == '\\U0001F341' and Positions[pos - 1] == '\\U0001F438':\n",
        "            return False\n",
        "        else:\n",
        "            return True\n",
        "\n",
        "def make_a_move(pos):\n",
        "    pos2 = 0\n",
        "    if Positions[pos] == '\\U0001F438':\n",
        "        if Positions[pos + 1] == '\\U0001F341':\n",
        "            pos2 = (pos+1)\n",
        "        elif Positions[pos + 2] == '\\U0001F341':\n",
        "            pos2 = (pos+2)\n",
        "    elif Positions[pos] == '\\U0001F42C':\n",
        "        if Positions[pos - 1] == '\\U0001F341':\n",
        "            pos2 = (pos-1)\n",
        "        elif Positions[pos - 2] == '\\U0001F341':\n",
        "            pos2 = (pos-2)\n",
        "\n",
        "    Positions[pos], Positions[pos2] = Positions[pos2], Positions[pos]\n",
        "\n",
        "while(True):\n",
        "    print(\"Press q to quit else \\nEnter position of piece:\", end='')\n",
        "    pos = input()\n",
        "    if pos == 'q':\n",
        "        print(\"YOU LOSE!!\")\n",
        "        break\n",
        "    pos = int(pos)\n",
        "    if is_Invalid(pos):\n",
        "        print(\"Invalid move\")\n",
        "        continue\n",
        "    else:\n",
        "        make_a_move(pos)\n",
        "\n",
        "    clear_output()\n",
        "    print(\"[  0 ,   1 ,   2 ,   3 ,   4 ,   5 ,   6 ]\")\n",
        "    print(Positions)\n",
        "\n",
        "    if Positions == ['\\U0001F42C','\\U0001F42C','\\U0001F42C','\\U0001F341','\\U0001F438','\\U0001F438','\\U0001F438']:\n",
        "        print(\"Congratulations YOU WIN\")\n",
        "        break"
      ]
    }
  ],
  "metadata": {
    "accelerator": "GPU",
    "colab": {
      "provenance": []
    },
    "kernelspec": {
      "display_name": "Python 3",
      "name": "python3"
    },
    "language_info": {
      "name": "python"
    }
  },
  "nbformat": 4,
  "nbformat_minor": 0
}